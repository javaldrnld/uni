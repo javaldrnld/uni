{
 "cells": [
  {
   "cell_type": "code",
   "execution_count": 1,
   "id": "7650a436-ce7f-481f-8fcf-ace2e4c7ab1a",
   "metadata": {},
   "outputs": [],
   "source": [
    "import pandas as pd\n",
    "import math"
   ]
  },
  {
   "cell_type": "code",
   "execution_count": null,
   "id": "2127ec45-6311-40a8-8228-980c371d6b14",
   "metadata": {},
   "outputs": [],
   "source": [
    "# Problem Set #2: Find the root using the bisection method. Find Relative True Error\n",
    "# with interval of [2.5, 3.5]. With 𝜺t(%) of 1%\n",
    "\n",
    "def func(x: int) -> int:\n",
    "    return x**2 - 7\n",
    "\n",
    "def bisect(func: int, xl: int, xr: int, mini_error: int) -> int:\n",
    "    \n",
    "    # Initialize variable of vt, and iteration\n",
    "    vt = 2.64575\n",
    "    i = 1\n",
    "\n",
    "    df  = pd.DataFrame(columns=['xl', 'xr', 'xm', 'f(xl)', 'f(xr)', 'f(xm)', 'ɛt(%)'])\n",
    "\n",
    "    while True:\n",
    "        # Update the values\n",
    "        xm = (xl + xr)/2\n",
    "        fxm = func(xm)\n",
    "\n",
    "        if i == 1:\n",
    "            et = abs((vt-xm)/vt)*100\n",
    "        else:\n",
    "            et = 100\n",
    "\n",
    "        # round to 5 decimal\n",
    "        non_rounded = [xl, xr, xm, func(xl), func(xr), fxm, et]\n",
    "        rounded = [round(num, 5) for num in non_rounded]\n",
    "        # append to the table\n",
    "        df.loc[i] = rounded\n",
    "\n",
    "        if et < mini_error:\n",
    "            break\n",
    "\n",
    "        # Update the boundary\n",
    "        if func(xl) < 0 and fxm > 0:\n",
    "            xl = xm\n",
    "        else:\n",
    "            xr = xm\n",
    "\n",
    "        i += 1\n",
    "\n",
    "    return df\n",
    "\n",
    "table = bisect(func, xl=2.5, xr=3.5, mini_error=1)\n",
    "print(table)\n",
    "\n",
    "        "
   ]
  },
  {
   "cell_type": "code",
   "execution_count": null,
   "id": "6a565f25-5373-49d8-8d5d-febb35889b3c",
   "metadata": {},
   "outputs": [],
   "source": []
  }
 ],
 "metadata": {
  "kernelspec": {
   "display_name": "Python 3 (ipykernel)",
   "language": "python",
   "name": "python3"
  },
  "language_info": {
   "codemirror_mode": {
    "name": "ipython",
    "version": 3
   },
   "file_extension": ".py",
   "mimetype": "text/x-python",
   "name": "python",
   "nbconvert_exporter": "python",
   "pygments_lexer": "ipython3",
   "version": "3.11.4"
  }
 },
 "nbformat": 4,
 "nbformat_minor": 5
}
